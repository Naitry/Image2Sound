{
 "cells": [
  {
   "cell_type": "code",
   "execution_count": null,
   "metadata": {},
   "outputs": [],
   "source": [
    "import matplotlib.image as mpimg\n",
    "import matplotlib.pyplot as plt\n",
    "import scipy.io.wavfile as wf\n",
    "import numpy as np\n",
    "\n",
    "FileName = \"Smiley\"\n",
    "img = mpimg.imread(('images/' + FileName + '.png'))\n",
    "\n",
    "plt.imshow(img)"
   ]
  },
  {
   "cell_type": "code",
   "execution_count": null,
   "metadata": {},
   "outputs": [],
   "source": [
    "height = len(img)\n",
    "width = len(img[0])\n",
    "\n",
    "print(\"Height: \", height)\n",
    "print(\"Width: \", width) "
   ]
  },
  {
   "cell_type": "code",
   "execution_count": null,
   "metadata": {},
   "outputs": [],
   "source": [
    "FlattenedColorData = np.zeros([height, width])\n",
    "\n",
    "for i in range(height):\n",
    "    for j in range(width):\n",
    "        FlattenedColorData[i][j] = (3 - (img[i][j][0] + img[i][j][1] + img[i][j][2] ))\n",
    "        \n",
    "print(np.shape(FlattenedColorData))\n",
    "plt.imshow(FlattenedColorData)"
   ]
  },
  {
   "cell_type": "code",
   "execution_count": null,
   "metadata": {},
   "outputs": [],
   "source": [
    "FlattenedColorDataT = np.fliplr(FlattenedColorData.transpose())\n",
    "print(FlattenedColorData[0][0])\n",
    "\n",
    "WarpedData = np.zeros([width, height])\n",
    "WarpedData2 = np.zeros([width, height])\n",
    "WarpedData3 = np.zeros([width, height])\n",
    "WarpedData4 = np.zeros([width, height])\n",
    "\n",
    "midpointH = height / 2\n",
    "midpointW = width / 2\n",
    "\n",
    "percentWidthReduction = 0.9\n",
    "percentHeightReduction = 0.4\n",
    "\n",
    "for i in range(width):\n",
    "    for j in range(height):   \n",
    "        WarpedData[i][int(j - ( (((percentHeightReduction / 2) * height) * (j - midpointH)) / midpointH))] = FlattenedColorDataT[i][j] \n",
    "\n",
    "for i in range(len(WarpedData)):\n",
    "    for j in range(len(WarpedData[i])):\n",
    "        selectionIndex = int((((j) / height)**(1/3.5) * height))\n",
    "        if(selectionIndex < len(WarpedData[i]) - 1):\n",
    "            WarpedData2[i][j] = WarpedData[i][selectionIndex]\n",
    "        else:\n",
    "            WarpedData2[i][j] = 0; \n",
    "        \n",
    "for i in range(len(WarpedData2)):\n",
    "    WarpedData3[int(i - ( (((percentWidthReduction / 2) * width) * (i - midpointW)) / midpointW))] = WarpedData2[i]\n",
    "\n",
    "for i in range(len(WarpedData3)):\n",
    "    for j in range(len(WarpedData3[i])):   \n",
    "        WarpedData4[i][int(j - ( (((0.05 / 2) * height) * (j - midpointH)) / midpointH))] = WarpedData3[i][j] \n",
    "        \n",
    "        \n",
    "plt.imshow(FlattenedColorDataT)\n",
    "plt.show()\n",
    "plt.imshow(WarpedData)\n",
    "plt.show()\n",
    "plt.imshow(WarpedData2)\n",
    "plt.show()\n",
    "plt.imshow(WarpedData3)\n",
    "plt.show()\n",
    "plt.imshow(WarpedData4)\n",
    "plt.show()"
   ]
  },
  {
   "cell_type": "code",
   "execution_count": null,
   "metadata": {},
   "outputs": [],
   "source": [
    "t = np.arange(width)\n",
    "s = np.fft.ifft(WarpedData4, width)\n",
    "plt.plot(t, s.real, label='real')\n",
    "\n",
    "totalOutput = np.empty(0)\n",
    "\n",
    "for row in WarpedData4:\n",
    "    totalOutput = np.concatenate((totalOutput, np.fft.ifft(row, 10000))).real"
   ]
  },
  {
   "cell_type": "code",
   "execution_count": null,
   "metadata": {},
   "outputs": [],
   "source": [
    "\n",
    "plt.figure(figsize=(100,10))\n",
    "plt.plot(totalOutput)\n",
    "plt.show()\n",
    "plt.figure(figsize=(100,10))\n",
    "plt.plot(totalOutput[int(percentWidthReduction * width * 0.5 * 10000): int((width * 10000) - percentWidthReduction * width * 0.5 * 10000)])\n",
    "plt.show()\n",
    "\n",
    "totalOutputCut = totalOutput[int(percentWidthReduction * width  * 0.5 * 10000): int((width * 10000) - percentWidthReduction * width * 0.5 * 10000)]"
   ]
  },
  {
   "cell_type": "code",
   "execution_count": null,
   "metadata": {},
   "outputs": [],
   "source": [
    "plt.plot(t, s.imag, '--', label='imaginary')\n"
   ]
  },
  {
   "cell_type": "code",
   "execution_count": null,
   "metadata": {},
   "outputs": [],
   "source": [
    "np.shape(s)"
   ]
  },
  {
   "cell_type": "code",
   "execution_count": null,
   "metadata": {},
   "outputs": [],
   "source": [
    "samplerate = 384000; fs = 100\n",
    "\n",
    "t = np.linspace(0., 1., samplerate)\n",
    "\n",
    "wf.write(\"Sounds/\" + FileName + \".wav\", samplerate, totalOutputCut.astype(np.float32))"
   ]
  },
  {
   "cell_type": "code",
   "execution_count": null,
   "metadata": {},
   "outputs": [],
   "source": []
  }
 ],
 "metadata": {
  "kernelspec": {
   "display_name": "Python 3",
   "language": "python",
   "name": "python3"
  },
  "language_info": {
   "codemirror_mode": {
    "name": "ipython",
    "version": 3
   },
   "file_extension": ".py",
   "mimetype": "text/x-python",
   "name": "python",
   "nbconvert_exporter": "python",
   "pygments_lexer": "ipython3",
   "version": "3.11.0"
  },
  "orig_nbformat": 4,
  "vscode": {
   "interpreter": {
    "hash": "c261aea317cc0286b3b3261fbba9abdec21eaa57589985bb7a274bf54d6cc0a7"
   }
  }
 },
 "nbformat": 4,
 "nbformat_minor": 2
}
